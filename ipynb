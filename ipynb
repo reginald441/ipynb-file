4.1

In the Python interpreter, do the following:

Create a list named my_list that contains the following values: 1, 2, 3, 4, 5

Print the value at index 2

Update the value at index 2 to be 10

Print the value at index 2 again

Delete the value at index 2

Print my_list to see what it contains now

my_list = [1, 2, 3, 4, 5]
print(my_list[2])
my_list[2] = 10
print(my_list[2])
del my_list[2]
print(my_list)

4.2

In the Python interpreter, do the following:

Create a tuple named my_tuple that contains the following values: 1, 2, 3, 4, 5

Print the value at index 2

Update the value at index 2 to be 10

What happens when you try to update a value in a tuple?

Delete the value at index 2

What happens when you try to delete a value in a tuple?

Print my_tuple to see what it contains

my_tuple = (1, 2, 3, 4, 5)
print(my_tuple[2])
my_tuple[2] = 10

6.1

In the Python interpreter, do the following:

Create a dictionary named my_dict that contains the following key/value pairs:

key1 -> value1

key2 -> value2

key3 -> value3

Print my_dict

Update the value for key2 to be a different value

Print my_dict again

Delete key3 from my_dict

Print my_dict one more time

my_dict = {
    "key1": "value1",
    "key2": "value2",
    "key3": "value3"
}

print(my_dict)

my_dict["key2"] = "different value"

print(my_dict)

del my_dict["key3"]

print(my_dict)

6.2

In the Python interpreter, do the following:

Create a set named my_set that contains the following values: 1,

Print my_set

Add the value 2 to my_set

Print my_set again

Remove the value 1 from my_set

Print my_set one more time

my_set = {1}

print(my_set)

my_set.add(2)

print(my_set)

my_set.remove(1)

print(my_set)

6.3

In the Python interpreter, do the following:

Create a variable named x that contains the value 1

Create a variable named y that contains the value 2

Create a variable named z that contains the value 3

Print x

Print y

Print z

x = 1
y = 2
z = 3

print(x)
print(y)
print(z)